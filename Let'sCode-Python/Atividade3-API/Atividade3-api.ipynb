{
 "cells": [
  {
   "cell_type": "code",
   "execution_count": 2,
   "metadata": {},
   "outputs": [],
   "source": [
    "import requests"
   ]
  },
  {
   "cell_type": "code",
   "execution_count": 3,
   "metadata": {},
   "outputs": [
    {
     "name": "stdout",
     "output_type": "stream",
     "text": [
      "200\n"
     ]
    }
   ],
   "source": [
    "url = 'https://api.exchangerate-api.com/v6/latest'\n",
    "\n",
    "req = requests.get(url)\n",
    "\n",
    "print(req.status_code) #Funcão testa a conexão para verificar se o link esta respondendo, recebendo o status 200 esta OK \n"
   ]
  },
  {
   "cell_type": "code",
   "execution_count": 4,
   "metadata": {},
   "outputs": [
    {
     "name": "stdout",
     "output_type": "stream",
     "text": [
      "{'result': 'success', 'provider': 'https://www.exchangerate-api.com', 'documentation': 'https://www.exchangerate-api.com/docs/free', 'terms_of_use': 'https://www.exchangerate-api.com/terms', 'time_last_update_unix': 1657670551, 'time_last_update_utc': 'Wed, 13 Jul 2022 00:02:31 +0000', 'time_next_update_unix': 1657757181, 'time_next_update_utc': 'Thu, 14 Jul 2022 00:06:21 +0000', 'time_eol_unix': 0, 'base_code': 'USD', 'rates': {'USD': 1, 'AED': 3.67, 'AFN': 88.52, 'ALL': 116.52, 'AMD': 410.43, 'ANG': 1.79, 'AOA': 431.47, 'ARS': 127.38, 'AUD': 1.48, 'AWG': 1.79, 'AZN': 1.7, 'BAM': 1.95, 'BBD': 2, 'BDT': 93.11, 'BGN': 1.95, 'BHD': 0.376, 'BIF': 2044.91, 'BMD': 1, 'BND': 1.41, 'BOB': 6.89, 'BRL': 5.39, 'BSD': 1, 'BTN': 79.43, 'BWP': 12.76, 'BYN': 2.96, 'BZD': 2, 'CAD': 1.3, 'CDF': 2005.49, 'CHF': 0.982, 'CLP': 991.72, 'CNY': 6.73, 'COP': 4463.42, 'CRC': 689.75, 'CUP': 24, 'CVE': 109.86, 'CZK': 24.42, 'DJF': 177.72, 'DKK': 7.43, 'DOP': 54.88, 'DZD': 147.67, 'EGP': 18.89, 'ERN': 15, 'ETB': 52.16, 'EUR': 0.996, 'FJD': 2.22, 'FKP': 0.842, 'FOK': 7.43, 'GBP': 0.842, 'GEL': 2.88, 'GGP': 0.842, 'GHS': 8.27, 'GIP': 0.842, 'GMD': 54.87, 'GNF': 8781.53, 'GTQ': 7.77, 'GYD': 211.57, 'HKD': 7.85, 'HNL': 24.73, 'HRK': 7.51, 'HTG': 116.33, 'HUF': 406.81, 'IDR': 14912.35, 'ILS': 3.49, 'IMP': 0.842, 'INR': 79.43, 'IQD': 1475.47, 'IRR': 42087.35, 'ISK': 138.61, 'JEP': 0.842, 'JMD': 151.37, 'JOD': 0.709, 'JPY': 136.8, 'KES': 118.43, 'KGS': 81.81, 'KHR': 4118.97, 'KID': 1.48, 'KMF': 490.16, 'KRW': 1307.02, 'KWD': 0.3, 'KYD': 0.833, 'KZT': 473.2, 'LAK': 16548.38, 'LBP': 1507.5, 'LKR': 355.06, 'LRD': 153.17, 'LSL': 17.03, 'LYD': 4.89, 'MAD': 9.94, 'MDL': 19.31, 'MGA': 4093.97, 'MKD': 60.85, 'MMK': 1842.64, 'MNT': 3177.18, 'MOP': 8.09, 'MRU': 36.91, 'MUR': 44.58, 'MVR': 15.51, 'MWK': 1035.74, 'MXN': 20.84, 'MYR': 4.42, 'MZN': 64.49, 'NAD': 17.03, 'NGN': 415.98, 'NIO': 36.1, 'NOK': 10.24, 'NPR': 127.08, 'NZD': 1.63, 'OMR': 0.384, 'PAB': 1, 'PEN': 3.96, 'PGK': 3.54, 'PHP': 56.34, 'PKR': 207.71, 'PLN': 4.79, 'PYG': 6976.07, 'QAR': 3.64, 'RON': 4.92, 'RSD': 116.69, 'RUB': 59.58, 'RWF': 1057.68, 'SAR': 3.75, 'SBD': 8.03, 'SCR': 12.96, 'SDG': 491.75, 'SEK': 10.58, 'SGD': 1.41, 'SHP': 0.842, 'SLL': 13157.3, 'SOS': 583.84, 'SRD': 22.57, 'SSP': 518.3, 'STN': 24.41, 'SYP': 2495.33, 'SZL': 17.03, 'THB': 36.24, 'TJS': 10.52, 'TMT': 3.51, 'TND': 2.95, 'TOP': 2.36, 'TRY': 17.31, 'TTD': 6.76, 'TVD': 1.48, 'TWD': 29.82, 'TZS': 2334.46, 'UAH': 30.53, 'UGX': 3779.55, 'UYU': 40.45, 'UZS': 10882.31, 'VES': 5.61, 'VND': 23407.41, 'VUV': 119.41, 'WST': 2.73, 'XAF': 653.54, 'XCD': 2.7, 'XDR': 0.764, 'XOF': 653.54, 'XPF': 118.89, 'YER': 251.33, 'ZAR': 17.03, 'ZMW': 16.49, 'ZWL': 376.81}}\n"
     ]
    }
   ],
   "source": [
    "dados = req.json()\n",
    "\n",
    "print(dados)"
   ]
  },
  {
   "cell_type": "code",
   "execution_count": 6,
   "metadata": {},
   "outputs": [
    {
     "name": "stdout",
     "output_type": "stream",
     "text": [
      "R$10.0 em Dolar é US$1.855287569573284\n"
     ]
    }
   ],
   "source": [
    "valor_reais = float(input('Informe o valor em Reais a ser convertido:\\n'))\n",
    "cotacao = dados['rates']['BRL']\n",
    "print(f'R${valor_reais} em Dolar é US${(valor_reais/cotacao)}')"
   ]
  },
  {
   "cell_type": "markdown",
   "metadata": {},
   "source": [
    "Application Programming Interface\n",
    "Hoje em dia é muito comum que diferentes aplicações consumam dados pela internet, muitas vezes dados providenciados por terceiros. Por exemplo, um aplicativo de entrega de alimentos pode usar dados de geolocalização do Google para localizar restaurantes próximos ao usuário e exibir a rota percorrida pelo entregador.\n",
    "\n",
    "Como as aplicações podem rodar em diferentes plataformas (Windows, Android, MacOS, iOS, um navegador de internet...), é importante estabelecer uma linguagem comum para que todos consigam consumir esses dados.\n",
    "\n",
    "Essa \"linguagem comum\" é o que chamamos de API: Application Programming Interface. A organização que disponibiliza os dados estabelece algumas \"regrinhas\" para fazermos requisições, e em contrapartida ela garante que os recursos fornecidos também seguirão certos padrões, facilitando a vida dos programadores.\n",
    "\n",
    "Portanto, quando decidimos utilizar uma API, a primeira coisa que precisamos fazer é estudar sua documentação. Vejamos alguns dos pontos mais relevantes para procurar.\n",
    "\n",
    "Todos os exemplos de requisição que mostraremos aqui podem ser colados em seu navegador ou estudados usando um requests.get no Python e imprimindo seu campo text.\n",
    "\n",
    "URI base\n",
    "Várias APIs fornecem um \"endereço base\". Todas as suas requisições incluirão esse endereço, e ao final dele nós colocamos detalhes específicos para cada um dos recursos disponíveis.\n",
    "\n",
    "Por exemplo, na AlphaVantage (https://www.alphavantage.co/), uma API de dados de bolsas de valores e criptomoedas, a URI base é:\n",
    "\n",
    "https://www.alphavantage.co/query?\n",
    "\n",
    "Após a interrogação nós colocaremos os campos para nossa consulta. Por exemplo, para fazer uma consulta sem autenticação para valores da IBM, de 5 em 5 minutos, o endereço completo fica:\n",
    "\n",
    "https://www.alphavantage.co/query?function=TIME_SERIES_INTRADAY&symbol=IBM&interval=5min&apikey=demo\n",
    "\n",
    "Note o formato com &NomeDoCampo=ValorDoCampo. Ele é bastante comum. Outro formato bastante comum é o de \"subdiretórios\".\n",
    "\n",
    "Um exemplo é a PokéAPI. A URI base é:\n",
    "\n",
    "https://pokeapi.co/api/v2/\n",
    "\n",
    "Para procurar por pokémons, adicionamos pokemon/. Em seguida, podemos colocar números (índices) ou nomes de Pokémon, como:\n",
    "\n",
    "https://pokeapi.co/api/v2/pokemon/ditto/\n",
    "\n",
    "https://pokeapi.co/api/v2/pokemon/25\n",
    "\n",
    "Se ao invés de pokémons estivéssemos interessados em tipos de pokémon, usaríamos types/ e o nome ou índice do tipo desejado:\n",
    "\n",
    "https://pokeapi.co/api/v2/type/ghost\n",
    "\n",
    "Formato\n",
    "Tipo de dado\n",
    "Algumas APIs possuem formatos fixos de dados. Outros permitem que você escolha. É comum, por exemplo, que uma API permita que você escolha entre JSON, XML, CSV e/ou outros formatos.\n",
    "\n",
    "Caso você tenha entrado no AlphaVantage e se registrado para obter uma chave (falaremos mais adiante), você pode especificar, por exemplo, que gostaria de resultados no formato CSV:\n",
    "\n",
    "https://www.alphavantage.co/query?function=TIME_SERIES_INTRADAY&symbol=IBM&interval=5min&dataformat=csv&apikey=demo\n",
    "\n",
    "Substitua \"demo\" por sua chave no exemplo acima e ele funcionará.\n",
    "\n",
    "Schema\n",
    "É bastante comum que as APIs disponibilizem um \"modelo\" genérico de como será formatado o seu JSON, XML etc para que os desenvolvedores saibam quais campos esperar e quais tipos de dados serão possíveis para cada campo. Por exemplo:\n",
    "\n",
    "{\n",
    "    'nome':string,\n",
    "    'pontuacao':integer\n",
    "}\n",
    "Autenticação\n",
    "Outro aspecto importante é a autenticação. Enquanto algumas APIs são grátis, outras são pagas. Ainda temos algumas híbridas: você pode gratuitamente acessar certos recursos, ou consumir um certo volume de dados, e acima disso você deverá pagar. Os dois modelos mais comuns de autenticação:\n",
    "\n",
    "Chave: ao fazer seu registro, você recebe uma chave que será inclusa na requisição, como é o caso do AlphaVantage.\n",
    "OAuth: um esquema um pouco mais complexo onde são combinados códigos de autorização, identificação do cliente e segredo do cliente em um POST, e o servidor cria uma sessão por um tempo limitado e fornece o ID da mesma. APIs de gigantes da internet (como Google e Facebook) costumam usar esse modelo.\n",
    "Rate limiting\n",
    "Um dado parcialmente relacionado ao item anterior. As APIs costumam limitar o número de requisições que você pode fazer em um instante de tempo (3 requisições por minuto, 10000 requisições por dia etc). Temos dois motivos:\n",
    "\n",
    "Segurança: evitar uma sobrecarga no servidor deles que possa indisponibilizar a API para todos os usuários.\n",
    "Venda de planos: várias APIs pagas possuem diferentes planos de pagamento. Os planos mais caros costumam permitir mais requisições do que os mais baratos ou gratuitos.\n",
    "Wrappers\n",
    "Algumas APIs possuem tantas buscas diferentes e os resultados podem ser tão complexos que mesmo vindo em formatos simples como JSON pode ser um pouco trabalhoso montar as requisições e isolar os dados que queremos. Por conta disso, frequentemente são fornecidas wrapper libraries: bibliotecas escritas em linguagens de programação específicas que já trazem classes e funções prontas para fazer requisições automaticamente e já quebrar o resultado em objetos fáceis de serem utilizados. Elas também costumam oferecer alguns benefícios adicionais, como caching: de tempos em tempos a base de dados é totalmente ou parcialmente baixada por completo e salva localmente, o que ajuda a economizar requisições e, consequentemente, uso de dados (bastante útil considerando em usuários de dispositivos móveis, por exemplo).\n",
    "\n",
    "Sandbox\n",
    "Várias APIs possuem no mesmo site de sua documentação uma área conhecida como sandbox, onde você pode simular requisições no próprio navegador e ver não só a resposta formatada, como informações sobre como montar aquela requisição em software.\n",
    "\n",
    "Aqui podemos observar a área de sandbox para fazer consultas de gastos por meio de cartão de pagamento do Portal da Transparência do governo federal. Note que ele mostra o schema e apresenta campos para preenchermos as buscas."
   ]
  },
  {
   "cell_type": "markdown",
   "metadata": {},
   "source": [
    "Aqui podemos observar a área de sandbox para fazer consultas de gastos por meio de cartão de pagamento do Portal da Transparência do governo federal. Note que ele mostra o schema e apresenta campos para preenchermos as buscas.\n",
    "\n",
    "\n",
    "\n",
    "E aqui, o resultado: ele gera o endereço completo para a busca baseado nos valores preenchidos nos campos e mostra a resposta formatada.\n",
    "\n",
    "\n",
    "\n",
    "Consumindo APIs em Python\n",
    "As APIs são meios de nos conectarmos a recursos na internet. Portanto, já possuímos as ferramentas na mão desde os capítulos anteriores. Você irá construir a lógica para decidir o que você irá buscar/consultar, montará uma string seguindo o formato indicado pela documentação da API (como todos os exemplos deste capítulo). Em seguida você tratará a resposta de acordo:\n",
    "\n",
    "Se for JSON, utilize o método json da própria requests.\n",
    "Se for CSV, utilize o módulo CSV estudado anteriormente.\n",
    "Se for XML, podemos utilizar o módulo BeautifulSoup, que não será estudado aqui.\n",
    "Para outros formatos, provavelmente a solução mais fácil será baixar um módulo preparado para lidar com eles.\n",
    "Descobrindo APIs: tem boas ideias e gostaria de saber se existe uma boa API para ajudar? Confira alguns bons repositórios de API organizados por categoria:\n",
    "\n",
    "https://github.com/n0shake/public-apis\n",
    "\n",
    "https://github.com/public-apis/public-apis\n",
    "\n",
    "https://any-api.com/\n",
    "\n",
    "Sites de governos costumam ter uma grande riqueza de dados também. Segue abaixo algumas sugestões (oficiais ou mantidas por voluntários) com dados do Brasil como um todo. Experimente buscar por bases de dados de sua cidade ou estado!\n",
    "\n",
    "http://www.transparencia.gov.br/swagger-ui.html\n",
    "\n",
    "http://www.dados.gov.br/\n",
    "\n",
    "https://brasil.io/home/"
   ]
  }
 ],
 "metadata": {
  "kernelspec": {
   "display_name": "Python 3.10.4 64-bit",
   "language": "python",
   "name": "python3"
  },
  "language_info": {
   "codemirror_mode": {
    "name": "ipython",
    "version": 3
   },
   "file_extension": ".py",
   "mimetype": "text/x-python",
   "name": "python",
   "nbconvert_exporter": "python",
   "pygments_lexer": "ipython3",
   "version": "3.10.4"
  },
  "orig_nbformat": 4,
  "vscode": {
   "interpreter": {
    "hash": "e7440110c6c0182a2dad1e703c372f102fad2eda689aaa35569e8dc8df298813"
   }
  }
 },
 "nbformat": 4,
 "nbformat_minor": 2
}
