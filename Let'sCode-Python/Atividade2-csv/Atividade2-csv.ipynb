{
 "cells": [
  {
   "cell_type": "markdown",
   "metadata": {},
   "source": [
    "CSV\n",
    "O formato CSV (Comma Separated Values, ou Valores Separados por Vírgula) é um arquivo de texto que representa dados em forma de tabela de forma simples.\n",
    "\n",
    "Cada linha do arquivo de texto é uma linha da tabela, e as colunas são separadas por vírgulas.\n",
    "\n",
    "1, 2, 3, 4\n",
    "\n",
    "5, 6, 7, 8\n",
    "\n",
    "9, 10, 11, 12\n",
    "\n",
    "Poderíamos manipular estes arquivos diretamente usando as funções de arquivo vistas anteriormente. Um fator complicador é que o formato CSV não é bem padronizado: apesar do nome, é normal que outros separadores sejam usados ao invés de vírgula, como \";\", para permitir que a vírgula seja usada em um campo. Idem para a separação entre linhas. Existe um módulo em Python para manipular arquivos CSV que nos ajuda a tratar essas diferenças. Todo programa que for utilizar o módulo CSV deverá importá-lo em seu início através do comando: import csv"
   ]
  },
  {
   "cell_type": "code",
   "execution_count": null,
   "metadata": {},
   "outputs": [],
   "source": [
    "import csv\n",
    "\n",
    "with open('tabelaExemplo.csv', 'w') as arquivo:\n",
    "    escritor = csv.writer(arquivo, delimiter = ';', lineterminator = '\\n') #criando um escritor\n",
    "    lista = [[1, 2, 3], [4, 5, 6], [7, 8, 9]]\n",
    "    escritor.writerows(lista) # writerows escreve cada \"sublista\" da lista como uma linha\n",
    "\n",
    "with open('tabelaExemplo.csv', \"r\") as arquivo:\n",
    "    leitor = csv.reader(arquivo, delimiter = ';', lineterminator = '\\n') #criando um leitor\n",
    "    print(\"O conteúdo do arquivo é:\")\n",
    "    print(leitor)\n",
    "    for linha in leitor:\n",
    "        print(linha)"
   ]
  },
  {
   "cell_type": "markdown",
   "metadata": {},
   "source": [
    "DictReader e DictWriter\n",
    "Podemos também trabalhar com dicionários, nos quais a primeira linha é lida como a chave e as demais são os respectivos valores:"
   ]
  },
  {
   "cell_type": "code",
   "execution_count": null,
   "metadata": {},
   "outputs": [],
   "source": [
    "import csv\n",
    "\n",
    "with open('email.csv', 'r') as emails:\n",
    "    leitor = csv.DictReader(emails, delimiter=';') #a primeira linha é lida como um cabeçalho\n",
    "    for linha in leitor:\n",
    "        print(linha['Login email']) #podemos chamar um valor específico de cada linha pela chave no cabeçallho\n",
    "\n",
    "\n",
    "with open('names.csv', 'w', newline='') as csvfile:\n",
    "    chaves = ['first_name', 'last_name'] # definimos o cabeçalho\n",
    "    writer = csv.DictWriter(csvfile, fieldnames=chaves) # especificamos o cabeçalho\n",
    "\n",
    "    writer.writeheader() # escrevemos o cabeçalho\n",
    "    writer.writerow({'first_name': 'Senhor', 'last_name': 'Batata'}) # escrevemos linhas com as chaves e valores\n",
    "    writer.writerow({'first_name': 'Will', 'last_name': 'Smith'})\n",
    "    writer.writerow({'first_name': 'Elon', 'last_name': 'Musk'})"
   ]
  }
 ],
 "metadata": {
  "language_info": {
   "name": "python"
  },
  "orig_nbformat": 4
 },
 "nbformat": 4,
 "nbformat_minor": 2
}
